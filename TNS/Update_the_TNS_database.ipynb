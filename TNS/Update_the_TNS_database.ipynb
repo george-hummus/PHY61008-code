{
 "cells": [
  {
   "cell_type": "markdown",
   "id": "d5ca091a",
   "metadata": {},
   "source": [
    "### Need to update the TNS database CSV using the updates for it contained in the other CSV"
   ]
  },
  {
   "cell_type": "code",
   "execution_count": 1,
   "id": "6239d899",
   "metadata": {},
   "outputs": [],
   "source": [
    "import csv\n",
    "import json\n",
    "import numpy as np"
   ]
  },
  {
   "cell_type": "code",
   "execution_count": 2,
   "id": "50816cda",
   "metadata": {},
   "outputs": [],
   "source": [
    "#load in the fulldata base\n",
    "file=open(\"tns_public_objects.csv\") #load in database\n",
    "csvreader = csv.reader(file) #openfile as csv\n",
    "next(csvreader) #skip the date \n",
    "headers = next(csvreader) #save headers\n",
    "database = []\n",
    "for row in csvreader:\n",
    "        database.append(row) #save all rows into a list\n",
    "#convert list into numpy array\n",
    "database = np.array(database,dtype=\"object\")"
   ]
  },
  {
   "cell_type": "code",
   "execution_count": 3,
   "id": "f1139891",
   "metadata": {},
   "outputs": [],
   "source": [
    "#all the ids are in the first column so need to extarct these \n",
    "ids = database.T[0]"
   ]
  },
  {
   "cell_type": "code",
   "execution_count": 4,
   "id": "3eca472d",
   "metadata": {},
   "outputs": [],
   "source": [
    "#now load in the CSV with the updates\n",
    "file2=open(\"tns_public_objects_20221011.csv\") #load in updates\n",
    "csvreader2 = csv.reader(file2) #openfile as csv\n",
    "next(csvreader2) #skip the date \n",
    "next(csvreader2) # skip the header\n",
    "updates = []\n",
    "for row in csvreader2:\n",
    "        updates.append(row) #save all rows into a list\n",
    "#convert list into numpy array\n",
    "updates = np.array(updates,dtype=\"object\")"
   ]
  },
  {
   "cell_type": "code",
   "execution_count": 5,
   "id": "14b05424",
   "metadata": {},
   "outputs": [],
   "source": [
    "#now need to loop through each entry in the updates  and find match/ or add if new to the database\n",
    "#need to loop from bottom to top so to add newest entries to the top of the database\n",
    "for i in range(len(updates)):\n",
    "    row = updates[-(i+1)] #extarcts rows from bottom upwards (index -1 -> -len)\n",
    "    ID = row[0] #get the id of the update\n",
    "    IDrow = np.where(database == ID)[0] # looks for row corresponding to ID in the database \n",
    "    if IDrow.size == 0: #if id is not in database then this is a new ID\n",
    "        database = np.vstack([row,database]) #inserts new ID at the top of the database\n",
    "        \n",
    "    else: #if it is in database then we need to update the entry \n",
    "        database[IDrow][0] = row \n",
    "database = np.vstack([headers,database]) #add the headers back to the top       "
   ]
  },
  {
   "cell_type": "code",
   "execution_count": 16,
   "id": "0896fc61",
   "metadata": {},
   "outputs": [],
   "source": [
    "#save out the database\n",
    "filename = \"tns_database_20221012.csv\"\n",
    "with open(filename, 'w', newline=\"\") as file:\n",
    "    csvwriter = csv.writer(file) # 2. create a csvwriter object\n",
    "    csvwriter.writerows(database) # 5. write the rest of the data"
   ]
  },
  {
   "cell_type": "code",
   "execution_count": null,
   "id": "73d89c31",
   "metadata": {},
   "outputs": [],
   "source": []
  }
 ],
 "metadata": {
  "kernelspec": {
   "display_name": "Python 3 (ipykernel)",
   "language": "python",
   "name": "python3"
  },
  "language_info": {
   "codemirror_mode": {
    "name": "ipython",
    "version": 3
   },
   "file_extension": ".py",
   "mimetype": "text/x-python",
   "name": "python",
   "nbconvert_exporter": "python",
   "pygments_lexer": "ipython3",
   "version": "3.8.10"
  }
 },
 "nbformat": 4,
 "nbformat_minor": 5
}
