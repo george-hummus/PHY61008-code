{
 "cells": [
  {
   "cell_type": "markdown",
   "id": "a105c966",
   "metadata": {},
   "source": [
    "### Tests for visbility script"
   ]
  },
  {
   "cell_type": "code",
   "execution_count": 1,
   "id": "b0528a80",
   "metadata": {},
   "outputs": [],
   "source": [
    "import datetime as dt\n",
    "from pytz import timezone\n",
    "from skyfield import almanac\n",
    "from skyfield.api import N, E, wgs84, load, utc, Star\n",
    "import matplotlib.pyplot as plt\n",
    "import matplotlib.dates as mdates\n",
    "import numpy as np"
   ]
  },
  {
   "cell_type": "markdown",
   "id": "9fe20c8c",
   "metadata": {},
   "source": [
    "### Merdian Transit of Sun (i.e., solar noon)"
   ]
  },
  {
   "cell_type": "code",
   "execution_count": 2,
   "id": "4ea3504a",
   "metadata": {},
   "outputs": [
    {
     "name": "stdout",
     "output_type": "stream",
     "text": [
      "['2022-10-04 01:00', '2022-10-04 13:00']\n",
      "[0 1]\n",
      "['Antimeridian transit', 'Meridian transit']\n"
     ]
    }
   ],
   "source": [
    "lapalma = wgs84.latlon(28.6468866 * N, -17.7742491 * E, elevation_m = 2326.0) #location of la palma\n",
    "ts = load.timescale() #loads in timescale\n",
    "eph = load('de421.bsp')  #loads in ephemerides\n",
    "\n",
    "t0 = ts.utc(2022, 10, 4)\n",
    "t1 = t0 +  dt.timedelta(days=1)\n",
    "#t1 = ts.utc(2022, 10, 5) #calculate between date todat and tomorrow\n",
    "\n",
    "earth, sun = eph['earth'], eph['sun'] #load in models of earth and sun from ephemerides\n",
    "\n",
    "#this finds merdian transit of the sun (i.e., midday) in la palma (plus the anitmeridian transit)\n",
    "f = almanac.meridian_transits(eph, sun, lapalma) \n",
    "t, y = almanac.find_discrete(t0, t1, f)\n",
    "\n",
    "print(t.utc_strftime('%Y-%m-%d %H:%M'))\n",
    "print(y)\n",
    "print([almanac.MERIDIAN_TRANSITS[yi] for yi in y])"
   ]
  },
  {
   "cell_type": "code",
   "execution_count": 3,
   "id": "d6939724",
   "metadata": {},
   "outputs": [
    {
     "name": "stdout",
     "output_type": "stream",
     "text": [
      "2022-10-04 12:59:49 UTC\n"
     ]
    }
   ],
   "source": [
    "#merdian transit / midday\n",
    "midday = t[list(y).index(1)] \n",
    "# index at which y=1 indicates the meridian transit so we save the time corresponding to that\n",
    "print(midday.utc_strftime())"
   ]
  },
  {
   "cell_type": "code",
   "execution_count": 4,
   "id": "75ddc0d7",
   "metadata": {},
   "outputs": [],
   "source": [
    "midday2 = midday + dt.timedelta(days=1) #midday of next day"
   ]
  },
  {
   "cell_type": "code",
   "execution_count": 5,
   "id": "c672f789",
   "metadata": {},
   "outputs": [
    {
     "data": {
      "text/plain": [
       "'2022-10-05 12:59:49 UTC'"
      ]
     },
     "execution_count": 5,
     "metadata": {},
     "output_type": "execute_result"
    }
   ],
   "source": [
    "midday2.utc_strftime()"
   ]
  },
  {
   "cell_type": "code",
   "execution_count": 6,
   "id": "a872ee25",
   "metadata": {},
   "outputs": [
    {
     "name": "stdout",
     "output_type": "stream",
     "text": [
      "2022-10-04 18:53   Day ends\n",
      "2022-10-04 19:17   Civil twilight ends\n",
      "2022-10-04 19:44   Nautical twilight ends\n",
      "2022-10-04 20:11   Astronomical twilight ends\n",
      "2022-10-05 05:47   Astronomical twilight starts\n",
      "2022-10-05 06:15   Nautical twilight starts\n",
      "2022-10-05 06:42   Civil twilight starts\n",
      "2022-10-05 07:06   Day starts\n"
     ]
    }
   ],
   "source": [
    "#find when it gets dark\n",
    "f = almanac.dark_twilight_day(eph, lapalma)\n",
    "times, events = almanac.find_discrete(midday, midday2, f)\n",
    "\n",
    "previous_e = f(midday).item()\n",
    "for t, e in zip(times, events):\n",
    "    tstr = str(t.utc_strftime())[:16]\n",
    "    if previous_e < e:\n",
    "        print(tstr, ' ', almanac.TWILIGHTS[e], 'starts')\n",
    "    else:\n",
    "        print(tstr, ' ', almanac.TWILIGHTS[previous_e], 'ends')\n",
    "    previous_e = e"
   ]
  },
  {
   "cell_type": "code",
   "execution_count": 7,
   "id": "1e7cbf84",
   "metadata": {},
   "outputs": [],
   "source": [
    "sunset = times[0]\n",
    "darkstart = times[3]\n",
    "darkend = times[4]\n",
    "sunrise = times[7] #using the keys for the events to extract the different times of night"
   ]
  },
  {
   "cell_type": "code",
   "execution_count": 8,
   "id": "4a74902b",
   "metadata": {
    "scrolled": true
   },
   "outputs": [
    {
     "name": "stdout",
     "output_type": "stream",
     "text": [
      "Sunsets at 2022-10-04 18:53:33 UTC\n",
      "Dark time starts at 2022-10-04 20:11:49 UTC\n",
      "Dark time ends at 2022-10-05 05:47:50 UTC\n",
      "Sun rises at 2022-10-05 07:06:12 UTC\n"
     ]
    }
   ],
   "source": [
    "print(f\"Sunsets at {sunset.utc_strftime()}\")\n",
    "print(f\"Dark time starts at {darkstart.utc_strftime()}\")\n",
    "print(f\"Dark time ends at {darkend.utc_strftime()}\")\n",
    "print(f\"Sun rises at {sunrise.utc_strftime()}\")"
   ]
  },
  {
   "cell_type": "code",
   "execution_count": 9,
   "id": "89e2e189",
   "metadata": {},
   "outputs": [
    {
     "name": "stdout",
     "output_type": "stream",
     "text": [
      "altitude @ start of dark time = -44deg 01' 39.3\"\n"
     ]
    }
   ],
   "source": [
    "# okay now we know the above we can find the alt of an object at these times\n",
    "#random object is Betelgeuse:  RA = 05h 55m 10.30536s, Dec = +07° 24′ 25.4304″\n",
    "\n",
    "#cretes star object from RA and Dec which represents betelgeuse\n",
    "bg =  Star(ra_hours=(5, 55, 10.30536),dec_degrees=(7, 24, 25.4304))\n",
    "\n",
    "Epos = earth + lapalma\n",
    "\n",
    "#observe star at start of dark time\n",
    "astro = Epos.at(darkstart).observe(bg)\n",
    "app = astro.apparent()\n",
    "#observers star at time from position\n",
    "\n",
    "alt, az, distance = app.altaz()\n",
    "\n",
    "print (f\"altitude @ start of dark time = {alt}\")"
   ]
  },
  {
   "cell_type": "code",
   "execution_count": 10,
   "id": "b8f0e4ac",
   "metadata": {},
   "outputs": [
    {
     "data": {
      "text/plain": [
       "-44.0275721619014"
      ]
     },
     "execution_count": 10,
     "metadata": {},
     "output_type": "execute_result"
    }
   ],
   "source": [
    "alt.degrees"
   ]
  },
  {
   "cell_type": "code",
   "execution_count": 11,
   "id": "9c7d83b0",
   "metadata": {},
   "outputs": [],
   "source": [
    "#make an array of Betelgeuse's altitude at every 6mins hour of dark time, then plot\n",
    "\n",
    "Time = sunset\n",
    "\n",
    "altitudes = []\n",
    "times = []\n",
    "\n",
    "while Time.utc_datetime() < sunrise.utc_datetime():\n",
    "    astro = Epos.at(Time).observe(bg)\n",
    "    app = astro.apparent()\n",
    "    #observers star at time from position\n",
    "\n",
    "    alt, az, distance = app.altaz()\n",
    "    \n",
    "    altitudes.append(alt.degrees)\n",
    "    times.append(Time.utc_datetime())\n",
    "    \n",
    "    Time += dt.timedelta(hours=0.1)"
   ]
  },
  {
   "cell_type": "code",
   "execution_count": 14,
   "id": "83f063ae",
   "metadata": {},
   "outputs": [
    {
     "data": {
      "image/png": "[encoded data removed]",
      "text/plain": [
       "<Figure size 720x720 with 1 Axes>"
      ]
     },
     "metadata": {
      "needs_background": "light"
     },
     "output_type": "display_data"
    }
   ],
   "source": [
    "#then lets plot the changing altitude of Betelgeuse during darktime\n",
    "fig, ax = plt.subplots(figsize=(10,10))\n",
    "ax.plot(times,altitudes,\"--\",label=\"Betelgeuse\")\n",
    "\n",
    "ax.plot(times,np.zeros(len(times)),color=\"grey\",alpha=0.5,zorder=0) #horizon\n",
    "ax.plot(times,20*np.ones(len(times)),color=\"grey\",alpha=0.5,zorder=0) #lower alt limit\n",
    "\n",
    "ax.vlines(darkstart.utc_datetime(), -90,90,color=\"grey\",alpha=0.5,zorder=0)\n",
    "ax.vlines(darkend.utc_datetime(), -90,90,color=\"grey\",alpha=0.5,zorder=0)\n",
    "ax.vlines(dt.datetime(2022, 10, 5, 0,0,0,tzinfo=utc), -90,90,color=\"grey\",alpha=0.5,zorder=0)\n",
    "\n",
    "#annotations\n",
    "ax.annotate(\"End of Twilight\", (darkstart.utc_datetime(),85),ha='center')\n",
    "ax.annotate(\"Start of Twilight\", (darkend.utc_datetime(),85),ha='center')\n",
    "ax.annotate(\"Midnight\", (dt.datetime(2022, 10, 5, 0,0,0,tzinfo=utc),85),ha='center')\n",
    "ax.annotate(\"Horizon\", (sunset.utc_datetime(),2),(10,0),textcoords=\"offset pixels\")\n",
    "ax.annotate(\"Airmass Lower Limit\", (sunset.utc_datetime(),22),(10,0),textcoords=\"offset pixels\")\n",
    "\n",
    "#backgrounds\n",
    "ax.axhspan(20, 0, facecolor='grey', alpha=0.2)\n",
    "ax.axhspan(0, -90, facecolor='grey', alpha=0.4)\n",
    "\n",
    "#formatting the plot\n",
    "xfmt = mdates.DateFormatter(' %H:%M')\n",
    "ax.xaxis.set_major_formatter(xfmt)\n",
    "ax.set_xlabel(\"UTC Time\")\n",
    "ax.set_ylabel(\"Altitude (degrees)\")\n",
    "ax.set_xlim([times[0],times[-1]])\n",
    "ax.set_ylim(-90,90)\n",
    "ax.set_title(\"Visibility of Betelgeuse during dark time on La Palma (4/10/22)\")\n",
    "\n",
    "#display\n",
    "plt.legend(loc='center left', bbox_to_anchor=(1, 0.5))\n",
    "plt.show()"
   ]
  },
  {
   "cell_type": "code",
   "execution_count": null,
   "id": "c70157c9",
   "metadata": {},
   "outputs": [],
   "source": []
  }
 ],
 "metadata": {
  "kernelspec": {
   "display_name": "Python 3 (ipykernel)",
   "language": "python",
   "name": "python3"
  },
  "language_info": {
   "codemirror_mode": {
    "name": "ipython",
    "version": 3
   },
   "file_extension": ".py",
   "mimetype": "text/x-python",
   "name": "python",
   "nbconvert_exporter": "python",
   "pygments_lexer": "ipython3",
   "version": "3.8.10"
  }
 },
 "nbformat": 4,
 "nbformat_minor": 5
}
