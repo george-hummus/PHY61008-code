{
 "cells": [
  {
   "cell_type": "markdown",
   "id": "2f320d1f",
   "metadata": {},
   "source": [
    "## Visibility Script Prototype\n",
    "### This Jupyter Notebook is a prototype for the visibility script to see if targets are visible in La Palma \n",
    "#### It follows this plan:\n",
    "- User enters a date and the script will calculate all the values within the time-frame of 12pm of the chosen date to 12pm of the next day (UTC time). \n",
    "    - As the time in La Palma where the Liverpool Telescope is based is +1/+0h UT it is guaranteed that the dark time will be between these two times.\n",
    "- Using this time scale the time when darktime starts and ends will be calculated for the night.\n",
    "- Next for a given target the time it transits the meridian and the altitude at which it does it will be calculated.\n",
    "    - If the transit altitude is below 35 degrees for La Palma then the target is discarded.\n",
    "    - If the transit altitude is above 35 degrees we cab go to the next step.\n",
    "- Now the HA at which the star is at 35 degrees is calculated.\n",
    "    - The transit time minus the hour angle is the time at which the target is rising at 35 degs\n",
    "    - The transit time plus the hour angle is the time the target is setting at 35 degs. \n",
    "- If either of the above cross over with the dark time interval then they will have some observable time from La Palma. The flow chart below shows all the possibilities that a target could have visibility-wise. \n",
    "![flow_chart](../../Lab-book/Extras/vis-script-plan.png)"
   ]
  },
  {
   "cell_type": "code",
   "execution_count": 1,
   "id": "3acdd05c",
   "metadata": {},
   "outputs": [],
   "source": [
    "## IMPORTS ###\n",
    "import datetime as dt\n",
    "from skyfield import almanac\n",
    "from skyfield.api import N, E, wgs84, load, utc, Star\n",
    "import matplotlib.pyplot as plt\n",
    "import matplotlib.dates as mdates\n",
    "import numpy as np\n",
    "import csv\n",
    "import json"
   ]
  },
  {
   "cell_type": "code",
   "execution_count": 2,
   "id": "02bf4368",
   "metadata": {},
   "outputs": [],
   "source": [
    "### Define constants ##\n",
    "# Location is La Palma\n",
    "lat = 28.6468866 \n",
    "long = -17.7742491 \n",
    "elv = 2326.0\n",
    "loc_name = \"La Palma\"\n",
    "# Target (Aldebaran)\n",
    "name = \"Aldebaran\"\n",
    "RA = (4+(35/60)+(55.23907/3600))*15 #in decimal degrees to match TNS (04h 35m 55.23907s)\n",
    "Dec = 16+(30/60)+(33.4885/3600) #in decimal degrees to match TNS (+16° 30′ 33.4885″)\n",
    "# Date \n",
    "file_date = \"20221010\" #to match the date of the update (which is the day before the one we are interested in)"
   ]
  },
  {
   "cell_type": "code",
   "execution_count": 3,
   "id": "c4bb761e",
   "metadata": {},
   "outputs": [
    {
     "name": "stdout",
     "output_type": "stream",
     "text": [
      "Today is: 11/10/2022, 12:00:00\n",
      "Tomorrow is: 12/10/2022, 12:00:00\n"
     ]
    }
   ],
   "source": [
    "# get the date intrested in (today) and the next day at 12pm and add UTC time zone\n",
    "today = dt.datetime.strptime(file_date, '%Y%m%d') + dt.timedelta(days=1.5)\n",
    "today =today.replace(tzinfo=utc)\n",
    "tomorrow = today + dt.timedelta(days=1)\n",
    "tomorrow = tomorrow.replace(tzinfo=utc)\n",
    "\n",
    "print(f'Today is: {today.strftime(\"%d/%m/%Y, %H:%M:%S\")}')\n",
    "print(f'Tomorrow is: {tomorrow.strftime(\"%d/%m/%Y, %H:%M:%S\")}')"
   ]
  },
  {
   "cell_type": "code",
   "execution_count": 4,
   "id": "9ad9ad17",
   "metadata": {},
   "outputs": [],
   "source": [
    "## set up skyfield observing ##\n",
    "location = wgs84.latlon(lat * N, long * E, elevation_m = elv) #location of la palma\n",
    "ts = load.timescale() #loads in timescale\n",
    "eph = load('de421.bsp')  #loads in ephemerides\n",
    "\n",
    "#load in objects from ephms\n",
    "earth, sun, moon = eph['earth'], eph['sun'], eph['moon']\n",
    "Epos = earth + location #sets up observing position (i.e., the postion of the follow-up telescope)\n",
    "\n",
    "#makes time objects from today and tomorrow\n",
    "t0 = ts.from_datetime(today)\n",
    "t1 = ts.from_datetime(tomorrow)"
   ]
  },
  {
   "cell_type": "code",
   "execution_count": 5,
   "id": "54e8fb15",
   "metadata": {},
   "outputs": [
    {
     "name": "stdout",
     "output_type": "stream",
     "text": [
      "Sunset at 18:45:42 11/10/2022\n",
      "Dark time starts at 20:04:06 11/10/2022\n",
      "Dark time ends at 05:51:37 12/10/2022\n",
      "Sunrise at 07:10:07 12/10/2022\n"
     ]
    }
   ],
   "source": [
    "### Find the dark time start and end ### \n",
    "f = almanac.dark_twilight_day(eph, location)\n",
    "times, events = almanac.find_discrete(t0, t1, f)\n",
    "\n",
    "sunset = times[0]\n",
    "darkstart = times[3]\n",
    "darkend = times[4]\n",
    "sunrise = times[7] #using the indcies to extract the different times of night\n",
    "\n",
    "print(f'Sunset at {sunset.utc_strftime(\"%H:%M:%S %d/%m/%Y\")}')\n",
    "print(f'Dark time starts at {darkstart.utc_strftime(\"%H:%M:%S %d/%m/%Y\")}')\n",
    "print(f'Dark time ends at {darkend.utc_strftime(\"%H:%M:%S %d/%m/%Y\")}')\n",
    "print(f'Sunrise at {sunrise.utc_strftime(\"%H:%M:%S %d/%m/%Y\")}')"
   ]
  },
  {
   "cell_type": "code",
   "execution_count": 6,
   "id": "c7ee018d",
   "metadata": {},
   "outputs": [
    {
     "name": "stdout",
     "output_type": "stream",
     "text": [
      "At 00:00:00 12/10/2022 the lunar altitude is 51.2227 degs, \n",
      "the phase is 200.0106 degs, and the illumination is 0.9495%.\n"
     ]
    }
   ],
   "source": [
    "## calculate moon's alt, phase, and illumination ##\n",
    "midnight = t0 + dt.timedelta(hours=12)\n",
    "mastro = Epos.at(midnight).observe(moon)\n",
    "mapp = mastro.apparent()\n",
    "malt, maz, mdst = mapp.altaz()\n",
    "mphase = almanac.moon_phase(eph, t0)\n",
    "mill = almanac.fraction_illuminated(eph,\"moon\",midnight)\n",
    "malt, mphase = malt.degrees, mphase.degrees\n",
    "\n",
    "print(f'''At {midnight.utc_strftime(\"%H:%M:%S %d/%m/%Y\")} the lunar altitude is {round(malt,4)} degs, \n",
    "the phase is {round(mphase,4)} degs, and the illumination is {round(mill,4)}%.''')"
   ]
  },
  {
   "cell_type": "code",
   "execution_count": 7,
   "id": "1f3fc53f",
   "metadata": {},
   "outputs": [
    {
     "name": "stdout",
     "output_type": "stream",
     "text": [
      "The RA of the sun is 13.127327758223828 hrs on 00:00:00 12/10/2022.\n"
     ]
    }
   ],
   "source": [
    "## Need the RA of the Sun on this night\n",
    "barycentric = earth.at(midnight)\n",
    "astrometric = barycentric.observe(sun)\n",
    "apparent = astrometric.apparent()\n",
    "Sunra, Sundec, Sundistance = apparent.radec() #get the RA of the Sun\n",
    "RA_Sun = Sunra.hours\n",
    "\n",
    "print(f'The RA of the sun is {RA_Sun} hrs on {midnight.utc_strftime(\"%H:%M:%S %d/%m/%Y\")}.')"
   ]
  },
  {
   "cell_type": "code",
   "execution_count": 8,
   "id": "8f823de8",
   "metadata": {},
   "outputs": [
    {
     "name": "stdout",
     "output_type": "stream",
     "text": [
      "Target: Star(ra=68.98016279166667, dec=16.50930236111111, epoch=2451545.0)\n"
     ]
    }
   ],
   "source": [
    "## Make star object to observe in skyfield ##\n",
    "\n",
    "#convert RA in decimal degrees to RA in hrs, mins, secs\n",
    "raH = RA/15 #RA decimal degrees to decimal hours\n",
    "ra_hours = int(raH) #hours of RA\n",
    "raM = (raH-ra_hours)*60 #decimal mintues of RA\n",
    "ra_mins = int(raM) #mintues of RA\n",
    "ra_secs = (raM-ra_mins)*60 #seconds of RA\n",
    "\n",
    "#convert DEC in decimal degrees to dec in degs, arcmins, arcsecs\n",
    "dec_degs = int(Dec) #degs of dec\n",
    "decM = (Dec-dec_degs)*60 #decimal arcmintues of dec\n",
    "dec_mins = int(decM) #arcmintues of dec\n",
    "dec_secs = (decM-dec_mins)*60 #arcseconds of dec\n",
    "\n",
    "#make the object\n",
    "target= Star(ra_hours=(ra_hours,ra_mins,ra_secs),dec_degrees=(dec_degs,dec_mins,dec_secs))\n",
    "\n",
    "print(f\"Target: {target}\")"
   ]
  },
  {
   "cell_type": "code",
   "execution_count": 9,
   "id": "e309da97",
   "metadata": {},
   "outputs": [],
   "source": [
    "## Function to find the time and altitude of transit ##\n",
    "def transit_time(tar,t_start,t_end):\n",
    "    \"\"\"\n",
    "    Function that finds the transit time (in UTC) of a target between two times (need to be 24hrs apart)\n",
    "    and the altitude of this transit in degrees.\n",
    "    Arguments:\n",
    "        - tar: the target as a skyfield Star object.\n",
    "        - t0: start time as a skyfield time object.\n",
    "        - t1: end time (should be ~24hrs later) as a skyfield time object.\n",
    "    Output:\n",
    "        t_time: time that the object transits in UTC as a skyfield time object.\n",
    "        t_alt: altitude in degrees that the object transits (float).\n",
    "    \"\"\"\n",
    "    #function that calculates transit \n",
    "    f = almanac.meridian_transits(eph, tar, location)\n",
    "    t, y = almanac.find_discrete(t_start, t_end, f) \n",
    "    #t is times of transit, \n",
    "    #y is array with 0 for antimerdian transit and 1 for meridian transit (which we are intrested in)\n",
    "    \n",
    "    #so t_time is the element at the same index as 1 in y in the t array\n",
    "    meridian_index = np.where(y==1)[0]\n",
    "    t_time = t[meridian_index]\n",
    "    \n",
    "    #now need to find altitude of star at this time\n",
    "    astro = Epos.at(t_time).observe(tar)\n",
    "    app = astro.apparent()\n",
    "    alt, az, distance = app.altaz()\n",
    "    t_alt = alt.degrees\n",
    "\n",
    "    return t_time[0], t_alt[0]"
   ]
  },
  {
   "cell_type": "code",
   "execution_count": 10,
   "id": "1889d8a7",
   "metadata": {},
   "outputs": [
    {
     "name": "stdout",
     "output_type": "stream",
     "text": [
      "The target transits the meridian at 2022-10-12 04:25, \n",
      "with an altitude of 77.9098 degs.\n"
     ]
    }
   ],
   "source": [
    "t_time, t_alt = transit_time(target,t0,t1)\n",
    "print(f'''The target transits the meridian at {t_time.utc_strftime(\"%Y-%m-%d %H:%M\")}, \n",
    "with an altitude of {round(t_alt,4)} degs.''')"
   ]
  },
  {
   "cell_type": "code",
   "execution_count": 11,
   "id": "87a16a7a",
   "metadata": {},
   "outputs": [],
   "source": [
    "## Function to find the HA at 35 deg altitude ##\n",
    "def alt2HA(alt,lt,dec):\n",
    "    '''\n",
    "    Function that calculates the absolute value of the hour angle of a target for at a specified altitude, \n",
    "    given the latitude of the location and the declination of the target.\n",
    "    Arguments:\n",
    "        - alt: the altitude you want to find the value of the HA at, in decimal degrees (float).\n",
    "        - lt: the latitude of the location you are observing the target, in decimal degrees (float).\n",
    "        - dec: the declination of the target, in decimal degrees (float)\n",
    "    Output:\n",
    "        - HA: the absolute value of the HA of the target at the specified altitude in decimal hours (float).\n",
    "    '''\n",
    "    \n",
    "    #convert dec, lat and alt into radian\n",
    "    altR = np.radians(alt)\n",
    "    latR = np.radians(lt)\n",
    "    decR = np.radians(dec)\n",
    "    \n",
    "    #find the hour angle of the \n",
    "    cosHAnum = np.sin(altR) - (np.sin(latR)*np.sin(decR)) #numerator of cos(HA)\n",
    "    cosHAden = np.cos(latR)*np.cos(decR) #denominator of cos(HA)\n",
    "    cosHA = cosHAnum/cosHAden \n",
    "    \n",
    "    #find the hour angle using arccos\n",
    "    HAdeg = np.degrees(np.arccos(cosHA)) #hour angle in degrees\n",
    "    HA = HAdeg/15 #hour angle in hours\n",
    "    \n",
    "    return HA"
   ]
  },
  {
   "cell_type": "code",
   "execution_count": 12,
   "id": "d3f6ec44",
   "metadata": {},
   "outputs": [
    {
     "name": "stdout",
     "output_type": "stream",
     "text": [
      "The hour angle of the star at 35 degs altitude is: 3.9122 hrs.\n"
     ]
    }
   ],
   "source": [
    "HA = alt2HA(35,lat,Dec)\n",
    "print(f'The hour angle of the star at 35 degs altitude is: {round(HA,4)} hrs.')"
   ]
  },
  {
   "cell_type": "code",
   "execution_count": 13,
   "id": "3dc2f5aa",
   "metadata": {},
   "outputs": [
    {
     "name": "stdout",
     "output_type": "stream",
     "text": [
      "Target rises above 35 degs altitude at 2022-10-12 00:31\n",
      "Target sets below 35 degs altitude at 2022-10-12 08:20\n",
      "The target is above 35 degs altitude for 7.8242 hrs\n"
     ]
    }
   ],
   "source": [
    "## Find the time target rises above 35 and then sets below 35 using the HA and transit time ##\n",
    "rise35 = t_time - dt.timedelta(hours=HA)\n",
    "set35 = t_time + dt.timedelta(hours=HA)\n",
    "print(f'Target rises above 35 degs altitude at {rise35.utc_strftime(\"%Y-%m-%d %H:%M\")}')\n",
    "print(f'Target sets below 35 degs altitude at {set35.utc_strftime(\"%Y-%m-%d %H:%M\")}')\n",
    "above35 = ((set35.utc_datetime()-rise35.utc_datetime()).seconds)/3600\n",
    "print(f'The target is above 35 degs altitude for {round(above35,4)} hrs')"
   ]
  },
  {
   "cell_type": "code",
   "execution_count": 14,
   "id": "de88d8f4",
   "metadata": {},
   "outputs": [],
   "source": [
    "## Compare the above time with the times dark time starts and ends to find observable time ##\n",
    "def obs_time(dt_start,dt_end,rise_t,set_t):\n",
    "    \"\"\"\n",
    "    Function that calculates how long a target is visible given the times dark time starts and ends, and \n",
    "    the times the target rises above and sets below a certain altitude. Note all times need to be in\n",
    "    the same timezone, idealy UTC.\n",
    "    Arguments:\n",
    "        - dt_start: the time dark time starts as a skyfield time object.\n",
    "        - dt_end: the time dark time ends as a skyfield time object.\n",
    "        - rise_t: the time the target rises above the certain altitude.\n",
    "        - set_t: the time the target sets below the certain altitude.\n",
    "    Output:\n",
    "        t_obs: the time the target is obserable in dark time, as a decimal hour (float).\n",
    "    \"\"\"\n",
    "    \n",
    "    #convert the times into datetime objects\n",
    "    dt_start, dt_end = dt_start.utc_datetime(), dt_end.utc_datetime()\n",
    "    rise_t, set_t = rise_t.utc_datetime(), set_t.utc_datetime()\n",
    "    \n",
    "    ## Now need to carry out the flow chart described above ##\n",
    "    #first check is rise_t greater than dt_start\n",
    "    if rise_t > dt_start:\n",
    "        #if true then target rises after dark time starts\n",
    "        #next check: is rise_t greater than dt_end\n",
    "        if rise_t > dt_end:\n",
    "            #if true target rises and sets after dark time, so cant observe\n",
    "            t_obs = 0\n",
    "        else:\n",
    "            #if false the target rises in dark time\n",
    "            #next check: is set_t greater than dt_end\n",
    "            if set_t > dt_end:\n",
    "                #if true then target rises in dark time and then sets after\n",
    "                #so observable time is end of dark time minus rise time\n",
    "                t_obs = (dt_end - rise_t).seconds/3600 #have to divide by 3600 to get in hours \n",
    "            else:\n",
    "                #if false then target rises and sets in dark time\n",
    "                #so observable time is just the time it is above the certain altitude\n",
    "                t_obs = (set_t - rise_t).seconds/3600       \n",
    "    else:\n",
    "        #if false target rises before dark time\n",
    "        #next check: is set_t greater than dt_start\n",
    "        if set_t > dt_start:\n",
    "            #if true then the target sets in dark time\n",
    "            #next check: is set_t greater than dt_end\n",
    "            if set_t > dt_end:\n",
    "                #if true then target rises before dark time and sets after it\n",
    "                #so observable time is the length of dark time\n",
    "                t_obs = (dt_end - dt_start).seconds/3600\n",
    "            else:\n",
    "                #if false then target rises before dark time and sets in dark time\n",
    "                #so observable time is the set time minus the start of dark time\n",
    "                t_obs = (set_t - dt_start).seconds/3600\n",
    "        else:\n",
    "            #if false then target rises and sets before dark time starts, so cant observe\n",
    "            t_obs = 0      \n",
    "    \n",
    "    return t_obs"
   ]
  },
  {
   "cell_type": "code",
   "execution_count": 15,
   "id": "a8f5a872",
   "metadata": {},
   "outputs": [
    {
     "name": "stdout",
     "output_type": "stream",
     "text": [
      "Target is observable above 35 degs altitude in dark time for 5.3492 hours.\n"
     ]
    }
   ],
   "source": [
    "t_obs = obs_time(darkstart,darkend,rise35,set35)\n",
    "print(f'Target is observable above 35 degs altitude in dark time for {round(t_obs,4)} hours.')"
   ]
  },
  {
   "cell_type": "code",
   "execution_count": 16,
   "id": "50031576",
   "metadata": {},
   "outputs": [],
   "source": [
    "## Plot this to check ## \n",
    "# make an array of targts altitude at every 5 mins hour of night time\n",
    "\n",
    "Time = sunset\n",
    "\n",
    "altitudes = []\n",
    "times = []\n",
    "\n",
    "while Time.utc_datetime() < sunrise.utc_datetime():\n",
    "    astro = Epos.at(Time).observe(target)\n",
    "    app = astro.apparent()\n",
    "    #observers star at time from position\n",
    "\n",
    "    alt, az, distance = app.altaz()\n",
    "    \n",
    "    altitudes.append(alt.degrees)\n",
    "    times.append(Time.utc_datetime())\n",
    "    \n",
    "    Time += dt.timedelta(hours=0.1)"
   ]
  },
  {
   "cell_type": "code",
   "execution_count": 17,
   "id": "6f495ef7",
   "metadata": {
    "scrolled": false
   },
   "outputs": [
    {
     "data": {
      "image/png": "[encoded data removed]",
      "text/plain": [
       "<Figure size 720x720 with 1 Axes>"
      ]
     },
     "metadata": {
      "needs_background": "light"
     },
     "output_type": "display_data"
    }
   ],
   "source": [
    "#then lets plot the changing altitude of target during darktime\n",
    "fig, ax = plt.subplots(figsize=(10,10))\n",
    "ax.plot(times,altitudes,\"--\",label=name)\n",
    "\n",
    "ax.plot(times,np.zeros(len(times)),color=\"grey\",alpha=0.5,zorder=0) #horizon\n",
    "ax.plot(times,35*np.ones(len(times)),color=\"grey\",alpha=0.5,zorder=0) #lower alt limit\n",
    "\n",
    "ax.vlines(darkstart.utc_datetime(), -90,90,color=\"grey\",alpha=0.5,zorder=0) #start of darktime\n",
    "ax.vlines(darkend.utc_datetime(), -90,90,color=\"grey\",alpha=0.5,zorder=0) #end of darktime\n",
    "ax.vlines(midnight.utc_datetime(), -90,90,color=\"grey\",alpha=0.5,zorder=0)\n",
    "ax.vlines(rise35.utc_datetime(), -90,90,color=\"r\",alpha=0.5,zorder=0) #first time at 35degs\n",
    "ax.vlines(set35.utc_datetime(), -90,90,color=\"r\",alpha=0.5,zorder=0) #second time at 35degs\n",
    "\n",
    "#annotations\n",
    "ax.annotate(\"Start of Dark Time\", (darkstart.utc_datetime(),85),ha='center')\n",
    "ax.annotate(\"End of Dark Time\", (darkend.utc_datetime(),85),ha='center')\n",
    "ax.annotate(\"Midnight\", (dt.datetime(2022, 10, 5, 0,0,0,tzinfo=utc),85),ha='center')\n",
    "ax.annotate(\"Horizon\", (sunset.utc_datetime(),2),(10,0),textcoords=\"offset pixels\")\n",
    "ax.annotate(\"Airmass Lower Limit (35 degs)\", (sunset.utc_datetime(),37),(10,0),textcoords=\"offset pixels\")\n",
    "ax.annotate(\"Rising above 35 degs\", (rise35.utc_datetime(),-85),ha='center')\n",
    "ax.annotate(\"Setting below 35 degs\", (set35.utc_datetime(),-85),ha='center')\n",
    "\n",
    "#backgrounds\n",
    "ax.axhspan(35, 0, facecolor='grey', alpha=0.2)\n",
    "ax.axhspan(0, -90, facecolor='grey', alpha=0.4)\n",
    "\n",
    "#formatting the plot\n",
    "xfmt = mdates.DateFormatter(' %H:%M')\n",
    "ax.xaxis.set_major_formatter(xfmt)\n",
    "ax.set_xlabel(\"UTC Time\")\n",
    "ax.set_ylabel(\"Altitude (degrees)\")\n",
    "ax.set_xlim([times[0],times[-1]])\n",
    "ax.set_ylim(-90,90)\n",
    "ax.set_title(f'Visibility of {name} during dark time on {loc_name} ({today.strftime(\"%d/%m/%Y\")})')\n",
    "\n",
    "#display\n",
    "plt.show()"
   ]
  },
  {
   "cell_type": "code",
   "execution_count": 20,
   "id": "c534d2e8",
   "metadata": {},
   "outputs": [
    {
     "name": "stdout",
     "output_type": "stream",
     "text": [
      "Angle between moon and target at 2022-10-11 20:04 : 28.0666 degs\n",
      "Angle between moon and target at 2022-10-12 00:58 : 25.5521 degs\n",
      "Angle between moon and target at 2022-10-12 05:52 : 23.0754 degs\n",
      "Average angluar separtion between target and moon during night is: 25.5647 degs\n"
     ]
    }
   ],
   "source": [
    "# angluar separtion between moon and target during the night ##\n",
    "\n",
    "#find the UTC time at the middle of the night\n",
    "middark = ts.from_datetime(darkstart.utc_datetime()+((darkend.utc_datetime() - darkstart.utc_datetime())/2))\n",
    "\n",
    "#loop through each time and add angular separation to list to find average\n",
    "times = [darkstart,middark,darkend]\n",
    "a_seps = []\n",
    "for i in times:\n",
    "    # angular separation doesn't depend on location on earth just time\n",
    "    e = earth.at(i) #set earth as centre\n",
    "    m = e.observe(moon) #observe moon at time i\n",
    "    T = e.observe(target) #observe target at same time \n",
    "    asep = m.separation_from(T).degrees #find angular separation in degrees\n",
    "    a_seps.append(asep) #append to list\n",
    "    print(f'Angle between moon and target at {i.utc_strftime(\"%Y-%m-%d %H:%M\")} : {round(asep,4)} degs')\n",
    "    \n",
    "print(f'Average angluar separtion between target and moon during night is: {round(np.mean(a_seps),4)} degs')"
   ]
  },
  {
   "cell_type": "code",
   "execution_count": null,
   "id": "4f4aaf6e",
   "metadata": {},
   "outputs": [],
   "source": []
  }
 ],
 "metadata": {
  "kernelspec": {
   "display_name": "Python 3 (ipykernel)",
   "language": "python",
   "name": "python3"
  },
  "language_info": {
   "codemirror_mode": {
    "name": "ipython",
    "version": 3
   },
   "file_extension": ".py",
   "mimetype": "text/x-python",
   "name": "python",
   "nbconvert_exporter": "python",
   "pygments_lexer": "ipython3",
   "version": "3.8.10"
  }
 },
 "nbformat": 4,
 "nbformat_minor": 5
}
